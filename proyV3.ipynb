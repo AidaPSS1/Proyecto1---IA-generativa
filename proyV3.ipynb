{
  "nbformat": 4,
  "nbformat_minor": 0,
  "metadata": {
    "colab": {
      "provenance": []
    },
    "kernelspec": {
      "name": "python3",
      "display_name": "Python 3"
    },
    "language_info": {
      "name": "python"
    }
  },
  "cells": [
    {
      "cell_type": "code",
      "execution_count": null,
      "metadata": {
        "id": "wtkMVKvqEIYt",
        "colab": {
          "base_uri": "https://localhost:8080/"
        },
        "outputId": "424c5cb1-0d8b-48ed-e00a-9481e65efcb9"
      },
      "outputs": [
        {
          "output_type": "stream",
          "name": "stdout",
          "text": [
            "\u001b[2K   \u001b[90m━━━━━━━━━━━━━━━━━━━━━━━━━━━━━━━━━━━━━━━━\u001b[0m \u001b[32m199.1/199.1 kB\u001b[0m \u001b[31m4.0 MB/s\u001b[0m eta \u001b[36m0:00:00\u001b[0m\n",
            "\u001b[2K   \u001b[90m━━━━━━━━━━━━━━━━━━━━━━━━━━━━━━━━━━━━━━━━\u001b[0m \u001b[32m4.3/4.3 MB\u001b[0m \u001b[31m26.3 MB/s\u001b[0m eta \u001b[36m0:00:00\u001b[0m\n",
            "\u001b[2K   \u001b[90m━━━━━━━━━━━━━━━━━━━━━━━━━━━━━━━━━━━━━━━━\u001b[0m \u001b[32m107.8/107.8 kB\u001b[0m \u001b[31m3.3 MB/s\u001b[0m eta \u001b[36m0:00:00\u001b[0m\n",
            "\u001b[2K   \u001b[90m━━━━━━━━━━━━━━━━━━━━━━━━━━━━━━━━━━━━━━━━\u001b[0m \u001b[32m81.9/81.9 kB\u001b[0m \u001b[31m1.7 MB/s\u001b[0m eta \u001b[36m0:00:00\u001b[0m\n",
            "\u001b[2K   \u001b[90m━━━━━━━━━━━━━━━━━━━━━━━━━━━━━━━━━━━━━━━━\u001b[0m \u001b[32m467.1/467.1 kB\u001b[0m \u001b[31m7.1 MB/s\u001b[0m eta \u001b[36m0:00:00\u001b[0m\n",
            "\u001b[2K   \u001b[90m━━━━━━━━━━━━━━━━━━━━━━━━━━━━━━━━━━━━━━━━\u001b[0m \u001b[32m2.5/2.5 MB\u001b[0m \u001b[31m20.9 MB/s\u001b[0m eta \u001b[36m0:00:00\u001b[0m\n",
            "\u001b[2K   \u001b[90m━━━━━━━━━━━━━━━━━━━━━━━━━━━━━━━━━━━━━━━━\u001b[0m \u001b[32m155.4/155.4 kB\u001b[0m \u001b[31m2.4 MB/s\u001b[0m eta \u001b[36m0:00:00\u001b[0m\n",
            "\u001b[2K   \u001b[90m━━━━━━━━━━━━━━━━━━━━━━━━━━━━━━━━━━━━━━━━\u001b[0m \u001b[32m1.0/1.0 MB\u001b[0m \u001b[31m27.1 MB/s\u001b[0m eta \u001b[36m0:00:00\u001b[0m\n",
            "\u001b[2K   \u001b[90m━━━━━━━━━━━━━━━━━━━━━━━━━━━━━━━━━━━━━━━━\u001b[0m \u001b[32m46.1/46.1 kB\u001b[0m \u001b[31m2.2 MB/s\u001b[0m eta \u001b[36m0:00:00\u001b[0m\n",
            "\u001b[2K   \u001b[90m━━━━━━━━━━━━━━━━━━━━━━━━━━━━━━━━━━━━━━━━\u001b[0m \u001b[32m56.8/56.8 kB\u001b[0m \u001b[31m2.7 MB/s\u001b[0m eta \u001b[36m0:00:00\u001b[0m\n",
            "\u001b[2K   \u001b[90m━━━━━━━━━━━━━━━━━━━━━━━━━━━━━━━━━━━━━━━━\u001b[0m \u001b[32m64.7/64.7 kB\u001b[0m \u001b[31m3.1 MB/s\u001b[0m eta \u001b[36m0:00:00\u001b[0m\n",
            "\u001b[2K   \u001b[90m━━━━━━━━━━━━━━━━━━━━━━━━━━━━━━━━━━━━━━━━\u001b[0m \u001b[32m50.9/50.9 kB\u001b[0m \u001b[31m2.3 MB/s\u001b[0m eta \u001b[36m0:00:00\u001b[0m\n",
            "\u001b[2K   \u001b[90m━━━━━━━━━━━━━━━━━━━━━━━━━━━━━━━━━━━━━━━━\u001b[0m \u001b[32m207.6/207.6 kB\u001b[0m \u001b[31m13.2 MB/s\u001b[0m eta \u001b[36m0:00:00\u001b[0m\n",
            "\u001b[?25h\u001b[31mERROR: pip's dependency resolver does not currently take into account all the packages that are installed. This behaviour is the source of the following dependency conflicts.\n",
            "google-colab 1.0.0 requires requests==2.32.4, but you have requests 2.32.5 which is incompatible.\u001b[0m\u001b[31m\n",
            "\u001b[0m"
          ]
        }
      ],
      "source": [
        "# librerias\n",
        "!pip install -qU langchain langchain_openai langchain-core langchain-community langgraph psycopg[binary,pool]==3.2.6\n",
        "\n"
      ]
    },
    {
      "cell_type": "code",
      "source": [
        "import os\n",
        "from datetime import datetime\n",
        "from typing import Dict, List, Optional, Literal\n",
        "from pydantic import BaseModel, Field\n",
        "import pandas as pd\n",
        "from pathlib import Path\n",
        "\n",
        "from langchain_openai import ChatOpenAI\n",
        "from langchain_core.messages import HumanMessage, AIMessage\n",
        "from langchain_core.prompts import ChatPromptTemplate\n",
        "from langchain_core.tools import tool\n",
        "from langgraph.checkpoint.memory import MemorySaver\n",
        "from langgraph.prebuilt import create_react_agent"
      ],
      "metadata": {
        "id": "TJaOAJ7L3dS5"
      },
      "execution_count": null,
      "outputs": []
    },
    {
      "cell_type": "code",
      "source": [
        "\n",
        "from langchain_community.utilities.sql_database import SQLDatabase\n",
        "from sqlalchemy import create_engine\n",
        "\n",
        "with open(\"/content/drive/MyDrive/api_key_openAI.txt\") as archivo:\n",
        "  apikey = archivo.read()\n",
        "os.environ[\"OPENAI_API_KEY\"] = apikey"
      ],
      "metadata": {
        "id": "WYh7wdls3OL5"
      },
      "execution_count": null,
      "outputs": []
    },
    {
      "cell_type": "code",
      "source": [
        "# Rutas de archivos\n",
        "RUTA_EXCEL_ALUMNOS = \"/content/drive/MyDrive/Ingresantes2025_EXMED.xlsx\"\n",
        "RUTA_EXCEL_EXAMENES = \"/content/drive/MyDrive/Examenes_Registrados.xlsx\"\n"
      ],
      "metadata": {
        "id": "L8nJRDMH3RK5"
      },
      "execution_count": null,
      "outputs": []
    },
    {
      "cell_type": "markdown",
      "source": [
        "Gestionando datos en el archivo excel"
      ],
      "metadata": {
        "id": "dMgslieQ3oGC"
      }
    },
    {
      "cell_type": "code",
      "source": [
        "class GestorExcel:\n",
        "    \"\"\"Gestor de archivos Excel para alumnos y exámenes\"\"\"\n",
        "\n",
        "    def __init__(self, ruta_alumnos: str, ruta_examenes: str):\n",
        "        self.ruta_alumnos = ruta_alumnos\n",
        "        self.ruta_examenes = ruta_examenes\n",
        "        self._crear_archivo_examenes_si_no_existe()\n",
        "\n",
        "    def _crear_archivo_examenes_si_no_existe(self):\n",
        "        \"\"\"Crea el archivo de exámenes si no existe\"\"\"\n",
        "        if not Path(self.ruta_examenes).exists():\n",
        "            df_examenes = pd.DataFrame(columns=[\n",
        "                'CODIGO_MATRICULA', 'TIPO_EXAMEN', 'FECHA_EXAMEN',\n",
        "                'RESULTADO', 'ESTADO', 'OBSERVACIONES', 'RESPONSABLE'\n",
        "            ])\n",
        "            df_examenes.to_excel(self.ruta_examenes, index=False)\n",
        "\n",
        "    def cargar_alumnos(self) -> pd.DataFrame:\n",
        "        \"\"\"Carga el archivo de alumnos\"\"\"\n",
        "        try:\n",
        "            df = pd.read_excel(self.ruta_alumnos)\n",
        "            df.columns = df.columns.str.strip()\n",
        "            return df\n",
        "        except Exception as e:\n",
        "            raise Exception(f\"Error al cargar archivo de alumnos: {str(e)}\")\n",
        "\n",
        "    def cargar_examenes(self) -> pd.DataFrame:\n",
        "        \"\"\"Carga el archivo de exámenes\"\"\"\n",
        "        try:\n",
        "            return pd.read_excel(self.ruta_examenes)\n",
        "        except Exception as e:\n",
        "            return pd.DataFrame(columns=[\n",
        "                'CODIGO_MATRICULA', 'TIPO_EXAMEN', 'FECHA_EXAMEN',\n",
        "                'RESULTADO', 'ESTADO', 'OBSERVACIONES', 'RESPONSABLE'\n",
        "            ])\n",
        "\n",
        "    def guardar_examenes(self, df: pd.DataFrame):\n",
        "        \"\"\"Guarda el DataFrame de exámenes\"\"\"\n",
        "        df.to_excel(self.ruta_examenes, index=False)\n",
        "\n",
        "    def buscar_alumno(self, filtro_tipo: str, valor: str) -> List[Dict]:\n",
        "        \"\"\"Busca alumnos según filtro\"\"\"\n",
        "        df = self.cargar_alumnos()\n",
        "\n",
        "        if filtro_tipo == \"codigo\":\n",
        "            resultado = df[df['CODIGO MATRICULA'].astype(str) == str(valor)]\n",
        "        elif filtro_tipo == \"documento\":\n",
        "            resultado = df[df['NUMERO DOCUMENTO'].astype(str) == str(valor)]\n",
        "        elif filtro_tipo == \"apellido\":\n",
        "            mask = (df['APELLIDO PATERNO'].str.contains(valor, case=False, na=False) |\n",
        "                   df['APELLIDO MATERNO'].str.contains(valor, case=False, na=False))\n",
        "            resultado = df[mask]\n",
        "        else:\n",
        "            return []\n",
        "\n",
        "        return resultado.to_dict('records')\n",
        "\n",
        "    def obtener_examenes_alumno(self, codigo_matricula: str) -> List[Dict]:\n",
        "        \"\"\"Obtiene exámenes de un alumno\"\"\"\n",
        "        df_examenes = self.cargar_examenes()\n",
        "        examenes = df_examenes[\n",
        "            df_examenes['CODIGO_MATRICULA'].astype(str) == str(codigo_matricula)\n",
        "        ]\n",
        "        return examenes.to_dict('records')\n",
        "\n",
        "    def registrar_examen(self, codigo_matricula: str, tipo_examen: str,\n",
        "                        resultado: str, estado: str, observaciones: str,\n",
        "                        responsable: str) -> Dict:\n",
        "        \"\"\"Registra o actualiza un examen\"\"\"\n",
        "        df_examenes = self.cargar_examenes()\n",
        "\n",
        "        # Buscar si ya existe un examen de este tipo para este alumno\n",
        "        mask = ((df_examenes['CODIGO_MATRICULA'].astype(str) == str(codigo_matricula)) &\n",
        "                (df_examenes['TIPO_EXAMEN'] == tipo_examen))\n",
        "\n",
        "        nuevo_registro = {\n",
        "            'CODIGO_MATRICULA': codigo_matricula,\n",
        "            'TIPO_EXAMEN': tipo_examen,\n",
        "            'FECHA_EXAMEN': datetime.now().strftime(\"%Y-%m-%d %H:%M:%S\"),\n",
        "            'RESULTADO': resultado,\n",
        "            'ESTADO': estado,\n",
        "            'OBSERVACIONES': observaciones,\n",
        "            'RESPONSABLE': responsable\n",
        "        }\n",
        "\n",
        "        if mask.any():\n",
        "            # Actualizar registro existente\n",
        "            for col, val in nuevo_registro.items():\n",
        "                df_examenes.loc[mask, col] = val\n",
        "            accion = \"actualizado\"\n",
        "        else:\n",
        "            # Agregar nuevo registro\n",
        "            df_examenes = pd.concat([df_examenes, pd.DataFrame([nuevo_registro])],\n",
        "                                   ignore_index=True)\n",
        "            accion = \"registrado\"\n",
        "\n",
        "        self.guardar_examenes(df_examenes)\n",
        "        return {\"accion\": accion, \"registro\": nuevo_registro}\n",
        "\n",
        "gestor = GestorExcel(RUTA_EXCEL_ALUMNOS, RUTA_EXCEL_EXAMENES)\n"
      ],
      "metadata": {
        "id": "cyc3jG017Yl3"
      },
      "execution_count": null,
      "outputs": []
    },
    {
      "cell_type": "markdown",
      "source": [
        "## Buscar al alumno por código, documento o apellido"
      ],
      "metadata": {
        "id": "ajXdlti93ovY"
      }
    },
    {
      "cell_type": "code",
      "source": [
        "class ConsultaAlumnoInput(BaseModel):\n",
        "    filtro_tipo: Literal[\"codigo\", \"documento\", \"apellido\"] = Field(\n",
        "        description=\"Tipo de filtro: 'codigo' para código de matrícula, 'documento' para número de documento, 'apellido' para buscar por apellido\"\n",
        "    )\n",
        "    valor_filtro: str = Field(description=\"Valor a buscar\")\n"
      ],
      "metadata": {
        "id": "H8AJF-UR3rvR"
      },
      "execution_count": null,
      "outputs": []
    },
    {
      "cell_type": "code",
      "source": [
        "@tool(\"consultar_alumno\", args_schema=ConsultaAlumnoInput)\n",
        "def consultar_alumno(filtro_tipo: str, valor_filtro: str) -> Dict:\n",
        "    \"\"\"\n",
        "    Busca información de alumnos en el archivo Excel.\n",
        "    Permite buscar por código de matrícula, número de documento o apellido.\n",
        "    Retorna datos personales y estado de exámenes médicos.\n",
        "    \"\"\"\n",
        "    try:\n",
        "        alumnos = gestor.buscar_alumno(filtro_tipo, valor_filtro)\n",
        "\n",
        "        if not alumnos:\n",
        "            return {\"error\": \"No se encontró ningún alumno con ese criterio\"}\n",
        "\n",
        "        # Para cada alumno, obtener sus exámenes\n",
        "        resultados = []\n",
        "        for alumno in alumnos:\n",
        "            codigo = alumno.get('CODIGO MATRICULA')\n",
        "            examenes = gestor.obtener_examenes_alumno(codigo)\n",
        "\n",
        "            # Convertir fecha si existe\n",
        "            if 'FECHA NACIMIENTO' in alumno and pd.notna(alumno['FECHA NACIMIENTO']):\n",
        "                alumno['FECHA NACIMIENTO'] = str(alumno['FECHA NACIMIENTO'])\n",
        "\n",
        "            # Calcular progreso\n",
        "            examenes_requeridos = ['laboratorio', 'psicologico', 'odontologia', 'rayos_x']\n",
        "            examenes_completados = [e for e in examenes if e.get('ESTADO') == 'completado']\n",
        "\n",
        "            resultados.append({\n",
        "                \"datos_personales\": alumno,\n",
        "                \"examenes_realizados\": examenes,\n",
        "                \"examenes_completados\": len(examenes_completados),\n",
        "                \"examenes_pendientes\": len(examenes_requeridos) - len(examenes_completados)\n",
        "            })\n",
        "\n",
        "        return {\n",
        "            \"exito\": True,\n",
        "            \"cantidad_encontrados\": len(resultados),\n",
        "            \"alumnos\": resultados\n",
        "        }\n",
        "\n",
        "    except Exception as e:\n",
        "        return {\"error\": f\"Error en la búsqueda: {str(e)}\"}"
      ],
      "metadata": {
        "id": "hMlk5KWZ3vnA"
      },
      "execution_count": null,
      "outputs": []
    },
    {
      "cell_type": "markdown",
      "source": [
        "## 2. Registra o actualiza el resultado de un examen para un alumno."
      ],
      "metadata": {
        "id": "8MbUwzDr32vX"
      }
    },
    {
      "cell_type": "code",
      "source": [
        "class RegistroExamenInput(BaseModel):\n",
        "    codigo_matricula: str = Field(description=\"Código de matrícula del alumno\")\n",
        "    tipo_examen: Literal[\"laboratorio\", \"psicologico\", \"odontologia\", \"rayos_x\"] = Field(\n",
        "        description=\"Tipo de examen: laboratorio, psicologico, odontologia, rayos_x\"\n",
        "    )\n",
        "    resultado: str = Field(description=\"Resultado del examen (descripción completa)\")\n",
        "    estado: Literal[\"completado\", \"requiere_seguimiento\"] = Field(\n",
        "        description=\"Estado: completado o requiere_seguimiento\"\n",
        "    )\n",
        "    observaciones: str = Field(description=\"Observaciones adicionales\", default=\"\")\n",
        "    responsable: str = Field(description=\"Nombre del responsable que registra\")\n",
        "\n",
        "@tool(\"registrar_examen\", args_schema=RegistroExamenInput)\n",
        "def registrar_examen(codigo_matricula: str, tipo_examen: str, resultado: str,\n",
        "                     estado: str, observaciones: str = \"\", responsable: str = \"\") -> Dict:\n",
        "    \"\"\"\n",
        "    Registra el resultado de un examen médico en Excel.\n",
        "    Valida que el alumno exista y actualiza o crea el registro.\n",
        "    Si el examen ya existía, lo actualiza con la nueva información.\n",
        "    \"\"\"\n",
        "    try:\n",
        "        # Verificar que el alumno existe\n",
        "        alumnos = gestor.buscar_alumno(\"codigo\", codigo_matricula)\n",
        "\n",
        "        if not alumnos:\n",
        "            return {\"error\": f\"No se encontró alumno con código {codigo_matricula}\"}\n",
        "\n",
        "        alumno = alumnos[0]\n",
        "\n",
        "        # Registrar el examen\n",
        "        registro_info = gestor.registrar_examen(\n",
        "            codigo_matricula, tipo_examen, resultado,\n",
        "            estado, observaciones, responsable\n",
        "        )\n",
        "\n",
        "        # Traducir tipo de examen\n",
        "        tipos_examen_es = {\n",
        "            \"laboratorio\": \"Análisis de Laboratorio\",\n",
        "            \"psicologico\": \"Evaluación Psicológica\",\n",
        "            \"odontologia\": \"Examen Odontológico\",\n",
        "            \"rayos_x\": \"Rayos X de Tórax\"\n",
        "        }\n",
        "\n",
        "        return {\n",
        "            \"exito\": True,\n",
        "            \"mensaje\": f\"Examen {registro_info['accion']} para {alumno.get('NOMBRES', '')} {alumno.get('APELLIDO PATERNO', '')}\",\n",
        "            \"tipo_examen\": tipos_examen_es.get(tipo_examen, tipo_examen),\n",
        "            \"estado\": estado,\n",
        "            \"requiere_alerta\": estado == \"requiere_seguimiento\"\n",
        "        }\n",
        "\n",
        "    except Exception as e:\n",
        "        return {\"error\": f\"Error al registrar examen: {str(e)}\"}"
      ],
      "metadata": {
        "id": "btl2FlQa3z5T"
      },
      "execution_count": null,
      "outputs": []
    },
    {
      "cell_type": "markdown",
      "source": [
        "## 3. Muestra el progreso detallado (completados, pendientes) de un alumno."
      ],
      "metadata": {
        "id": "rPI4GTXS36OQ"
      }
    },
    {
      "cell_type": "code",
      "source": [
        "@tool\n",
        "def obtener_estado_examenes(codigo_matricula: str) -> Dict:\n",
        "    \"\"\"\n",
        "    Obtiene el estado completo de todos los exámenes de un alumno.\n",
        "    Muestra cuáles están completados, pendientes o requieren seguimiento.\n",
        "    Calcula el porcentaje de avance del proceso médico.\n",
        "    \"\"\"\n",
        "    try:\n",
        "        # Verificar que el alumno existe\n",
        "        alumnos = gestor.buscar_alumno(\"codigo\", codigo_matricula)\n",
        "\n",
        "        if not alumnos:\n",
        "            return {\"error\": f\"No se encontró alumno con código {codigo_matricula}\"}\n",
        "\n",
        "        alumno = alumnos[0]\n",
        "        examenes = gestor.obtener_examenes_alumno(codigo_matricula)\n",
        "\n",
        "        # Tipos de examen requeridos\n",
        "        examenes_requeridos = {\n",
        "            \"laboratorio\": \"Análisis de Laboratorio\",\n",
        "            \"psicologico\": \"Evaluación Psicológica\",\n",
        "            \"odontologia\": \"Examen Odontológico\",\n",
        "            \"rayos_x\": \"Rayos X de Tórax\"\n",
        "        }\n",
        "\n",
        "        # Organizar exámenes por tipo\n",
        "        examenes_por_tipo = {}\n",
        "        for examen in examenes:\n",
        "            tipo = examen['TIPO_EXAMEN']\n",
        "            examenes_por_tipo[tipo] = examen\n",
        "\n",
        "        # Identificar pendientes\n",
        "        examenes_pendientes = [\n",
        "            {\"tipo\": tipo, \"nombre\": nombre}\n",
        "            for tipo, nombre in examenes_requeridos.items()\n",
        "            if tipo not in examenes_por_tipo\n",
        "        ]\n",
        "\n",
        "        # Identificar los que requieren seguimiento\n",
        "        requieren_seguimiento = [\n",
        "            {\"tipo\": exam['TIPO_EXAMEN'],\n",
        "             \"observaciones\": exam.get('OBSERVACIONES', '')}\n",
        "            for exam in examenes\n",
        "            if exam.get('ESTADO') == 'requiere_seguimiento'\n",
        "        ]\n",
        "\n",
        "        # Calcular progreso\n",
        "        completados = len([e for e in examenes if e.get('ESTADO') == 'completado'])\n",
        "        progreso = (completados / len(examenes_requeridos)) * 100\n",
        "\n",
        "        return {\n",
        "            \"exito\": True,\n",
        "            \"alumno\": f\"{alumno.get('NOMBRES', '')} {alumno.get('APELLIDO PATERNO', '')} {alumno.get('APELLIDO MATERNO', '')}\",\n",
        "            \"codigo_matricula\": codigo_matricula,\n",
        "            \"escuela\": alumno.get('NOMBRE ESCUELA', ''),\n",
        "            \"progreso_porcentaje\": round(progreso, 1),\n",
        "            \"examenes_completados\": completados,\n",
        "            \"total_examenes\": len(examenes_requeridos),\n",
        "            \"detalle_examenes\": examenes_por_tipo,\n",
        "            \"examenes_pendientes\": examenes_pendientes,\n",
        "            \"requieren_seguimiento\": requieren_seguimiento,\n",
        "            \"proceso_completo\": len(examenes_pendientes) == 0 and len(requieren_seguimiento) == 0\n",
        "        }\n",
        "\n",
        "    except Exception as e:\n",
        "        return {\"error\": f\"Error al consultar estado: {str(e)}\"}"
      ],
      "metadata": {
        "id": "xtQJiOm438MB"
      },
      "execution_count": null,
      "outputs": []
    },
    {
      "cell_type": "markdown",
      "source": [
        "## Genera una lista de todos los alumnos a los que les falta algún examen."
      ],
      "metadata": {
        "id": "TtHJ5nAQ3-zq"
      }
    },
    {
      "cell_type": "code",
      "source": [
        "class ListaPendientesInput(BaseModel):\n",
        "    tipo_examen: Optional[str] = Field(\n",
        "        description=\"Filtrar por tipo de examen específico (opcional)\",\n",
        "        default=None\n",
        "    )\n",
        "    escuela: Optional[str] = Field(\n",
        "        description=\"Filtrar por nombre de escuela (opcional)\",\n",
        "        default=None\n",
        "    )\n",
        "\n",
        "@tool(\"listar_alumnos_pendientes\", args_schema=ListaPendientesInput)\n",
        "def listar_alumnos_pendientes(tipo_examen: Optional[str] = None,\n",
        "                               escuela: Optional[str] = None) -> Dict:\n",
        "    \"\"\"\n",
        "    Lista todos los alumnos que tienen exámenes médicos pendientes.\n",
        "    Puede filtrar por tipo de examen específico o por escuela.\n",
        "    Útil para planificar jornadas médicas.\n",
        "    \"\"\"\n",
        "    try:\n",
        "        df_alumnos = gestor.cargar_alumnos()\n",
        "        df_examenes = gestor.cargar_examenes()\n",
        "\n",
        "        resultados = []\n",
        "\n",
        "        for _, alumno in df_alumnos.iterrows():\n",
        "            codigo = alumno['CODIGO MATRICULA']\n",
        "\n",
        "            # Filtro por escuela si se especificó\n",
        "            if escuela and escuela.lower() not in str(alumno.get('NOMBRE ESCUELA', '')).lower():\n",
        "                continue\n",
        "\n",
        "            # Obtener exámenes del alumno\n",
        "            examenes_alumno = df_examenes[\n",
        "                df_examenes['CODIGO_MATRICULA'].astype(str) == str(codigo)\n",
        "            ]\n",
        "\n",
        "            # Identificar exámenes completados\n",
        "            completados = examenes_alumno[\n",
        "                examenes_alumno['ESTADO'] == 'completado'\n",
        "            ]['TIPO_EXAMEN'].tolist()\n",
        "\n",
        "            # Calcular pendientes\n",
        "            todos = ['laboratorio', 'psicologico', 'odontologia', 'rayos_x']\n",
        "            pendientes = [e for e in todos if e not in completados]\n",
        "\n",
        "            # Si se filtró por tipo de examen, verificar\n",
        "            if tipo_examen and tipo_examen not in pendientes:\n",
        "                continue\n",
        "\n",
        "            if pendientes:  # Solo incluir si tiene pendientes\n",
        "                resultados.append({\n",
        "                    \"codigo_matricula\": str(codigo),\n",
        "                    \"nombre_completo\": f\"{alumno['NOMBRES']} {alumno['APELLIDO PATERNO']} {alumno['APELLIDO MATERNO']}\",\n",
        "                    \"escuela\": alumno.get('NOMBRE ESCUELA', ''),\n",
        "                    \"examenes_pendientes\": pendientes,\n",
        "                    \"cantidad_pendientes\": len(pendientes)\n",
        "                })\n",
        "\n",
        "        return {\n",
        "            \"exito\": True,\n",
        "            \"total_alumnos_pendientes\": len(resultados),\n",
        "            \"filtro_tipo_examen\": tipo_examen,\n",
        "            \"filtro_escuela\": escuela,\n",
        "            \"alumnos\": resultados[:20]\n",
        "        }\n",
        "\n",
        "    except Exception as e:\n",
        "        return {\"error\": f\"Error al listar pendientes: {str(e)}\"}"
      ],
      "metadata": {
        "id": "z26l498F4AMT"
      },
      "execution_count": null,
      "outputs": []
    },
    {
      "cell_type": "markdown",
      "source": [
        "## 5. Crea estadísticas generales de avance (ej. % de alumnos completados)."
      ],
      "metadata": {
        "id": "eH4ydGWV4D4U"
      }
    },
    {
      "cell_type": "code",
      "source": [
        "class ReporteInput(BaseModel):\n",
        "    tipo_reporte: Literal[\"general\", \"por_escuela\"] = Field(\n",
        "        description=\"Tipo de reporte: general o por_escuela\"\n",
        "    )\n",
        "    parametro: Optional[str] = Field(\n",
        "        description=\"Nombre de escuela si el tipo es 'por_escuela'\",\n",
        "        default=None\n",
        "    )\n",
        "\n",
        "@tool(\"generar_reporte\", args_schema=ReporteInput)\n",
        "def generar_reporte(tipo_reporte: str, parametro: Optional[str] = None) -> Dict:\n",
        "    \"\"\"\n",
        "    Genera reportes estadísticos sobre el proceso de exámenes médicos.\n",
        "    Incluye métricas de avance, distribución por escuela y estado general.\n",
        "    \"\"\"\n",
        "    try:\n",
        "        df_alumnos = gestor.cargar_alumnos()\n",
        "        df_examenes = gestor.cargar_examenes()\n",
        "\n",
        "        total_alumnos = len(df_alumnos)\n",
        "\n",
        "        if tipo_reporte == \"general\":\n",
        "            # Calcular alumnos con proceso completo\n",
        "            alumnos_completos = 0\n",
        "            for codigo in df_alumnos['CODIGO MATRICULA']:\n",
        "                examenes = df_examenes[\n",
        "                    df_examenes['CODIGO_MATRICULA'].astype(str) == str(codigo)\n",
        "                ]\n",
        "                completados = examenes[examenes['ESTADO'] == 'completado']\n",
        "                if len(completados) == 4:\n",
        "                    alumnos_completos += 1\n",
        "\n",
        "            # Alumnos con seguimiento\n",
        "            codigos_seguimiento = df_examenes[\n",
        "                df_examenes['ESTADO'] == 'requiere_seguimiento'\n",
        "            ]['CODIGO_MATRICULA'].unique()\n",
        "\n",
        "            # Exámenes por tipo\n",
        "            examenes_por_tipo = df_examenes[\n",
        "                df_examenes['ESTADO'] == 'completado'\n",
        "            ].groupby('TIPO_EXAMEN').size().to_dict()\n",
        "\n",
        "            reporte = {\n",
        "                \"tipo\": \"Reporte General\",\n",
        "                \"fecha\": datetime.now().strftime(\"%Y-%m-%d %H:%M\"),\n",
        "                \"total_alumnos\": total_alumnos,\n",
        "                \"proceso_completo\": alumnos_completos,\n",
        "                \"porcentaje_completado\": round((alumnos_completos / total_alumnos * 100) if total_alumnos > 0 else 0, 1),\n",
        "                \"requieren_seguimiento\": len(codigos_seguimiento),\n",
        "                \"examenes_realizados_por_tipo\": examenes_por_tipo\n",
        "            }\n",
        "\n",
        "        elif tipo_reporte == \"por_escuela\":\n",
        "            if not parametro:\n",
        "                return {\"error\": \"Se requiere nombre de escuela\"}\n",
        "\n",
        "            # Filtrar alumnos de la escuela\n",
        "            alumnos_escuela = df_alumnos[\n",
        "                df_alumnos['NOMBRE ESCUELA'].str.contains(parametro, case=False, na=False)\n",
        "            ]\n",
        "\n",
        "            total_escuela = len(alumnos_escuela)\n",
        "\n",
        "            # Calcular completados\n",
        "            completos_escuela = 0\n",
        "            for codigo in alumnos_escuela['CODIGO MATRICULA']:\n",
        "                examenes = df_examenes[\n",
        "                    df_examenes['CODIGO_MATRICULA'].astype(str) == str(codigo)\n",
        "                ]\n",
        "                completados = examenes[examenes['ESTADO'] == 'completado']\n",
        "                if len(completados) == 4:\n",
        "                    completos_escuela += 1\n",
        "\n",
        "            reporte = {\n",
        "                \"tipo\": \"Reporte por Escuela\",\n",
        "                \"fecha\": datetime.now().strftime(\"%Y-%m-%d %H:%M\"),\n",
        "                \"escuela\": parametro,\n",
        "                \"total_alumnos\": total_escuela,\n",
        "                \"proceso_completo\": completos_escuela,\n",
        "                \"porcentaje_completado\": round((completos_escuela / total_escuela * 100) if total_escuela > 0 else 0, 1)\n",
        "            }\n",
        "\n",
        "        return {\n",
        "            \"exito\": True,\n",
        "            \"reporte\": reporte\n",
        "        }\n",
        "\n",
        "    except Exception as e:\n",
        "        return {\"error\": f\"Error al generar reporte: {str(e)}\"}"
      ],
      "metadata": {
        "id": "V2bd9hpP4GQC"
      },
      "execution_count": null,
      "outputs": []
    },
    {
      "cell_type": "markdown",
      "source": [
        "## CONFIGURACIÓN DE AGENTES\n"
      ],
      "metadata": {
        "id": "R8_5IdLU4IyR"
      }
    },
    {
      "cell_type": "code",
      "source": [
        "# AGENTE 1: COORDINADOR GENERAL\n",
        "llm_coordinador = ChatOpenAI(temperature=0.3, model=\"gpt-4o-mini\")\n",
        "memory_coordinador = MemorySaver()\n",
        "\n",
        "prompt_coordinador = ChatPromptTemplate.from_messages([\n",
        "    (\"system\", \"\"\"Eres el Agente Coordinador del Sistema de Exámenes Médicos.\n",
        "\n",
        "Respondes consultas sobre:\n",
        "- Información de alumnos\n",
        "- Estado de exámenes médicos\n",
        "- Reportes y estadísticas generales\n",
        "\n",
        "Herramientas:\n",
        "- consultar_alumno: Buscar por código, documento o apellido\n",
        "- obtener_estado_examenes: Ver progreso de un alumno\n",
        "- listar_alumnos_pendientes: Lista de pendientes\n",
        "- generar_reporte: Reportes estadísticos\n",
        "\n",
        "Responde de forma clara y profesional.\"\"\"),\n",
        "    (\"human\", \"{messages}\"),\n",
        "])\n",
        "\n",
        "agente_coordinador = create_react_agent(\n",
        "    llm_coordinador,\n",
        "    tools=[consultar_alumno, obtener_estado_examenes, listar_alumnos_pendientes, generar_reporte],\n",
        "    checkpointer=memory_coordinador,\n",
        "    prompt=prompt_coordinador\n",
        ")"
      ],
      "metadata": {
        "colab": {
          "base_uri": "https://localhost:8080/"
        },
        "id": "BWlEN-_y4JQb",
        "outputId": "a4d93ef5-55ef-4a7d-90fd-025a109eb66b"
      },
      "execution_count": null,
      "outputs": [
        {
          "output_type": "stream",
          "name": "stderr",
          "text": [
            "/tmp/ipython-input-2019450965.py:23: LangGraphDeprecatedSinceV10: create_react_agent has been moved to `langchain.agents`. Please update your import to `from langchain.agents import create_agent`. Deprecated in LangGraph V1.0 to be removed in V2.0.\n",
            "  agente_coordinador = create_react_agent(\n"
          ]
        }
      ]
    },
    {
      "cell_type": "code",
      "source": [
        "# AGENTE 2: PERSONAL MÉDICO\n",
        "llm_medico = ChatOpenAI(temperature=0.3, model=\"gpt-4o-mini\")\n",
        "memory_medico = MemorySaver()\n",
        "\n",
        "prompt_medico = ChatPromptTemplate.from_messages([\n",
        "    (\"system\", \"\"\"Eres el Agente Asistente para Personal Médico.\n",
        "\n",
        "Ayudas a:\n",
        "- Registrar resultados de exámenes\n",
        "- Consultar información de pacientes\n",
        "- Verificar estado de exámenes\n",
        "\n",
        "Tipos de examen:\n",
        "- laboratorio: Análisis de sangre\n",
        "- psicologico: Evaluación psicológica\n",
        "- odontologia: Examen dental\n",
        "- rayos_x: Rayos X de tórax\n",
        "\n",
        "Estados:\n",
        "- completado: Examen finalizado sin problemas\n",
        "- requiere_seguimiento: Necesita atención adicional\n",
        "\n",
        "Herramientas:\n",
        "- consultar_alumno: Buscar alumno\n",
        "- obtener_estado_examenes: Ver historial\n",
        "- registrar_examen: Registrar resultado\n",
        "\n",
        "Siempre verifica que el alumno exista antes de registrar.\n",
        "Responde en español de forma profesional.\"\"\"),\n",
        "    (\"human\", \"{messages}\"),\n",
        "])\n",
        "\n",
        "agente_medico = create_react_agent(\n",
        "    llm_medico,\n",
        "    tools=[consultar_alumno, obtener_estado_examenes, registrar_examen],\n",
        "    checkpointer=memory_medico,\n",
        "    prompt=prompt_medico\n",
        ")\n",
        "\n",
        "# AGENTE 3: ADMINISTRATIVO\n",
        "llm_admin = ChatOpenAI(temperature=0.2, model=\"gpt-4o-mini\")\n",
        "memory_admin = MemorySaver()\n",
        "\n",
        "prompt_admin = ChatPromptTemplate.from_messages([\n",
        "    (\"system\", \"\"\"Eres el Agente Asistente para Personal Administrativo.\n",
        "\n",
        "Gestionas:\n",
        "- Listas de alumnos pendientes\n",
        "- Reportes estadísticos\n",
        "- Consultas masivas por escuela\n",
        "\n",
        "Herramientas:\n",
        "- listar_alumnos_pendientes: Ver pendientes\n",
        "- generar_reporte: Estadísticas\n",
        "- consultar_alumno: Buscar información\n",
        "\n",
        "Responde en español de forma organizada.\"\"\"),\n",
        "    (\"human\", \"{messages}\"),\n",
        "])\n",
        "\n",
        "agente_administrativo = create_react_agent(\n",
        "    llm_admin,\n",
        "    tools=[listar_alumnos_pendientes, generar_reporte, consultar_alumno],\n",
        "    checkpointer=memory_admin,\n",
        "    prompt=prompt_admin\n",
        ")"
      ],
      "metadata": {
        "colab": {
          "base_uri": "https://localhost:8080/"
        },
        "id": "nGsoyeeD4LVY",
        "outputId": "5c9f8673-251a-4857-cd49-198f466d6518"
      },
      "execution_count": null,
      "outputs": [
        {
          "output_type": "stream",
          "name": "stderr",
          "text": [
            "/tmp/ipython-input-912427625.py:33: LangGraphDeprecatedSinceV10: create_react_agent has been moved to `langchain.agents`. Please update your import to `from langchain.agents import create_agent`. Deprecated in LangGraph V1.0 to be removed in V2.0.\n",
            "  agente_medico = create_react_agent(\n",
            "/tmp/ipython-input-912427625.py:61: LangGraphDeprecatedSinceV10: create_react_agent has been moved to `langchain.agents`. Please update your import to `from langchain.agents import create_agent`. Deprecated in LangGraph V1.0 to be removed in V2.0.\n",
            "  agente_administrativo = create_react_agent(\n"
          ]
        }
      ]
    },
    {
      "cell_type": "markdown",
      "source": [
        "# configurando conversacion"
      ],
      "metadata": {
        "id": "fyS3vjIX4PKg"
      }
    },
    {
      "cell_type": "code",
      "source": [
        "# Variable global para mantener el contexto de conversación\n",
        "SESION_ACTUAL = {\n",
        "    \"agente_tipo\": \"coordinador\",\n",
        "    \"session_id\": f\"session_{datetime.now().strftime('%Y%m%d_%H%M%S')}\"\n",
        "}"
      ],
      "metadata": {
        "id": "6HERZ28A4Oya"
      },
      "execution_count": null,
      "outputs": []
    },
    {
      "cell_type": "code",
      "source": [
        "def conversar(consulta: str, agente_tipo: str = None) -> str:\n",
        "    \"\"\"\n",
        "    Función principal para conversación fluida.\n",
        "    Mantiene el contexto entre llamadas.\n",
        "\n",
        "    Args:\n",
        "        consulta: Pregunta o instrucción del usuario\n",
        "        agente_tipo: 'coordinador', 'medico' o 'administrativo' (opcional)\n",
        "\n",
        "    Returns:\n",
        "        Respuesta del agente\n",
        "    \"\"\"\n",
        "    global SESION_ACTUAL\n",
        "\n",
        "    # Si no se especifica agente, usar el actual\n",
        "    if agente_tipo is None:\n",
        "        agente_tipo = SESION_ACTUAL[\"agente_tipo\"]\n",
        "    else:\n",
        "        SESION_ACTUAL[\"agente_tipo\"] = agente_tipo\n",
        "\n",
        "    # Seleccionar agente\n",
        "    agentes = {\n",
        "        \"coordinador\": agente_coordinador,\n",
        "        \"medico\": agente_medico,\n",
        "        \"administrativo\": agente_administrativo\n",
        "    }\n",
        "\n",
        "    if agente_tipo not in agentes:\n",
        "        return \"Error: Agente no válido. Usa: 'coordinador', 'medico' o 'administrativo'\"\n",
        "\n",
        "    agente = agentes[agente_tipo]\n",
        "    config = {\"configurable\": {\"thread_id\": SESION_ACTUAL[\"session_id\"]}}\n",
        "\n",
        "    # Ejecutar agente\n",
        "    resultado = None\n",
        "    for step in agente.stream(\n",
        "        {\"messages\": [HumanMessage(content=consulta)]},\n",
        "        config,\n",
        "        stream_mode=\"values\",\n",
        "    ):\n",
        "        mensaje = step[\"messages\"][-1]\n",
        "        if isinstance(mensaje, AIMessage):\n",
        "            resultado = mensaje.content\n",
        "\n",
        "    return resultado\n"
      ],
      "metadata": {
        "id": "Gp3PA8ZW4Xhm"
      },
      "execution_count": null,
      "outputs": []
    },
    {
      "cell_type": "code",
      "source": [
        "def cambiar_agente(nuevo_agente: str):\n",
        "    \"\"\"Cambia el agente activo\"\"\"\n",
        "    global SESION_ACTUAL\n",
        "    if nuevo_agente in [\"coordinador\", \"medico\", \"administrativo\"]:\n",
        "        SESION_ACTUAL[\"agente_tipo\"] = nuevo_agente\n",
        "        return f\"Agente cambiado a: {nuevo_agente}\"\n",
        "    return \"Agente no válido\"\n",
        "\n",
        "def nueva_sesion():\n",
        "    \"\"\"Inicia una nueva sesión de conversación\"\"\"\n",
        "    global SESION_ACTUAL\n",
        "    SESION_ACTUAL = {\n",
        "        \"agente_tipo\": \"coordinador\",\n",
        "        \"session_id\": f\"session_{datetime.now().strftime('%Y%m%d_%H%M%S')}\"\n",
        "    }\n",
        "    return \"Nueva sesión iniciada\""
      ],
      "metadata": {
        "id": "Ltr2ynAN4Zuj"
      },
      "execution_count": null,
      "outputs": []
    },
    {
      "cell_type": "markdown",
      "source": [
        "FUNCIONES COMPLEMENTARIAS"
      ],
      "metadata": {
        "id": "blP1dQz69Wln"
      }
    },
    {
      "cell_type": "code",
      "source": [
        "def info_sistema():\n",
        "    \"\"\"Muestra información del sistema\"\"\"\n",
        "    return f\"\"\"\n",
        "Sistema de Exámenes Médicos - Estado Actual\n",
        "{'.'*60}\n",
        "Agente activo: {SESION_ACTUAL['agente_tipo'].upper()}\n",
        "Session ID: {SESION_ACTUAL['session_id']}\n",
        "Archivo alumnos: {RUTA_EXCEL_ALUMNOS}\n",
        "Archivo exámenes: {RUTA_EXCEL_EXAMENES}\n",
        "\n",
        "Agentes disponibles:\n",
        "- coordinador: Consultas generales, reportes\n",
        "- medico: Registro de exámenes\n",
        "- administrativo: Gestión masiva\n",
        "\n",
        "Comandos:\n",
        "- conversar(\"tu pregunta\"): Consultar al agente actual\n",
        "- cambiar_agente(\"tipo\"): Cambiar de agente\n",
        "- nueva_sesion(): Reiniciar conversación\n",
        "- info_sistema(): Ver esta información\n",
        "{'.'*60}\n",
        "    \"\"\"\n",
        "\n",
        "def obtener_estadisticas_rapidas():\n",
        "    \"\"\"Obtiene estadísticas rápidas del sistema\"\"\"\n",
        "    try:\n",
        "        df_alumnos = gestor.cargar_alumnos()\n",
        "        df_examenes = gestor.cargar_examenes()\n",
        "\n",
        "        total_alumnos = len(df_alumnos)\n",
        "        total_examenes_registrados = len(df_examenes)\n",
        "\n",
        "        # Calcular completados\n",
        "        codigos_unicos = df_examenes['CODIGO_MATRICULA'].unique()\n",
        "        completos = 0\n",
        "\n",
        "        for codigo in codigos_unicos:\n",
        "            examenes_codigo = df_examenes[df_examenes['CODIGO_MATRICULA'] == codigo]\n",
        "            if len(examenes_codigo[examenes_codigo['ESTADO'] == 'completado']) == 4:\n",
        "                completos += 1\n",
        "\n",
        "        return {\n",
        "            \"total_alumnos\": total_alumnos,\n",
        "            \"total_examenes_registrados\": total_examenes_registrados,\n",
        "            \"alumnos_proceso_completo\": completos,\n",
        "            \"porcentaje_avance\": round((completos / total_alumnos * 100) if total_alumnos > 0 else 0, 1)\n",
        "        }\n",
        "    except Exception as e:\n",
        "        return {\"error\": str(e)}\n"
      ],
      "metadata": {
        "id": "K4DDF9aI9YUR"
      },
      "execution_count": null,
      "outputs": []
    },
    {
      "cell_type": "markdown",
      "source": [
        "exportacion de resultados"
      ],
      "metadata": {
        "id": "A9On3piM_9E_"
      }
    },
    {
      "cell_type": "code",
      "source": [
        "def exportar_reporte_completo(ruta_salida: str = \"/content/drive/MyDrive/Reporte_Examenes.xlsx\"):\n",
        "    \"\"\"\n",
        "    Exporta un reporte completo a Excel con múltiples hojas.\n",
        "    \"\"\"\n",
        "    try:\n",
        "        df_alumnos = gestor.cargar_alumnos()\n",
        "        df_examenes = gestor.cargar_examenes()\n",
        "\n",
        "        # Crear reporte consolidado\n",
        "        reporte_consolidado = []\n",
        "\n",
        "        for _, alumno in df_alumnos.iterrows():\n",
        "            codigo = alumno['CODIGO MATRICULA']\n",
        "            examenes = df_examenes[df_examenes['CODIGO_MATRICULA'].astype(str) == str(codigo)]\n",
        "\n",
        "            # Contar completados\n",
        "            completados = len(examenes[examenes['ESTADO'] == 'completado'])\n",
        "\n",
        "            reporte_consolidado.append({\n",
        "                'CODIGO': codigo,\n",
        "                'NOMBRE_COMPLETO': f\"{alumno['NOMBRES']} {alumno['APELLIDO PATERNO']} {alumno['APELLIDO MATERNO']}\",\n",
        "                'ESCUELA': alumno.get('NOMBRE ESCUELA', ''),\n",
        "                'EXAMENES_COMPLETADOS': completados,\n",
        "                'EXAMENES_PENDIENTES': 4 - completados,\n",
        "                'PROGRESO_%': round((completados / 4) * 100, 1)\n",
        "            })\n",
        "\n",
        "        df_reporte = pd.DataFrame(reporte_consolidado)\n",
        "\n",
        "        # Exportar a Excel con múltiples hojas\n",
        "        with pd.ExcelWriter(ruta_salida, engine='openpyxl') as writer:\n",
        "            df_reporte.to_excel(writer, sheet_name='Resumen', index=False)\n",
        "            df_examenes.to_excel(writer, sheet_name='Examenes_Detalle', index=False)\n",
        "\n",
        "            # Hoja de estadísticas\n",
        "            stats = obtener_estadisticas_rapidas()\n",
        "            df_stats = pd.DataFrame([stats])\n",
        "            df_stats.to_excel(writer, sheet_name='Estadisticas', index=False)\n",
        "\n",
        "        return f\"Reporte exportado exitosamente a: {ruta_salida}\"\n",
        "\n",
        "    except Exception as e:\n",
        "        return f\"Error al exportar reporte: {str(e)}\""
      ],
      "metadata": {
        "id": "ytxT1npnABZv"
      },
      "execution_count": null,
      "outputs": []
    },
    {
      "cell_type": "code",
      "source": [
        "def validar_archivos():\n",
        "    \"\"\"\n",
        "    Valida que los archivos Excel existan y tengan el formato correcto.\n",
        "    \"\"\"\n",
        "    validacion = {\n",
        "        \"archivo_alumnos\": {\n",
        "            \"existe\": False,\n",
        "            \"columnas_correctas\": False,\n",
        "            \"total_registros\": 0,\n",
        "            \"errores\": []\n",
        "        },\n",
        "        \"archivo_examenes\": {\n",
        "            \"existe\": False,\n",
        "            \"columnas_correctas\": False,\n",
        "            \"total_registros\": 0,\n",
        "            \"errores\": []\n",
        "        }\n",
        "    }\n",
        "\n",
        "    # Validar archivo de alumnos\n",
        "    try:\n",
        "        if Path(RUTA_EXCEL_ALUMNOS).exists():\n",
        "            validacion[\"archivo_alumnos\"][\"existe\"] = True\n",
        "            df = gestor.cargar_alumnos()\n",
        "            validacion[\"archivo_alumnos\"][\"total_registros\"] = len(df)\n",
        "\n",
        "            columnas_requeridas = [\n",
        "                'CODIGO MATRICULA', 'TIPO DOCUMENTO', 'NUMERO DOCUMENTO',\n",
        "                'APELLIDO PATERNO', 'APELLIDO MATERNO', 'NOMBRES',\n",
        "                'FECHA NACIMIENTO', 'SEXO', 'CODIGO ESCUELA', 'NOMBRE ESCUELA'\n",
        "            ]\n",
        "\n",
        "            columnas_presentes = all(col in df.columns for col in columnas_requeridas)\n",
        "            validacion[\"archivo_alumnos\"][\"columnas_correctas\"] = columnas_presentes\n",
        "\n",
        "            if not columnas_presentes:\n",
        "                validacion[\"archivo_alumnos\"][\"errores\"].append(\n",
        "                    \"Faltan columnas requeridas en el archivo\"\n",
        "                )\n",
        "        else:\n",
        "            validacion[\"archivo_alumnos\"][\"errores\"].append(\n",
        "                f\"No se encontró el archivo en: {RUTA_EXCEL_ALUMNOS}\"\n",
        "            )\n",
        "    except Exception as e:\n",
        "        validacion[\"archivo_alumnos\"][\"errores\"].append(str(e))\n",
        "\n",
        "    # Validar archivo de exámenes\n",
        "    try:\n",
        "        if Path(RUTA_EXCEL_EXAMENES).exists():\n",
        "            validacion[\"archivo_examenes\"][\"existe\"] = True\n",
        "            df = gestor.cargar_examenes()\n",
        "            validacion[\"archivo_examenes\"][\"total_registros\"] = len(df)\n",
        "            validacion[\"archivo_examenes\"][\"columnas_correctas\"] = True\n",
        "        else:\n",
        "            validacion[\"archivo_examenes\"][\"errores\"].append(\n",
        "                \"Archivo de exámenes se creará automáticamente\"\n",
        "            )\n",
        "    except Exception as e:\n",
        "        validacion[\"archivo_examenes\"][\"errores\"].append(str(e))\n",
        "\n",
        "    return validacion"
      ],
      "metadata": {
        "id": "ibwSEro5AKBy"
      },
      "execution_count": null,
      "outputs": []
    },
    {
      "cell_type": "markdown",
      "source": [
        "Ejemplo\n",
        "\n",
        "**conversar(consulta: str, agente_tipo: str = None)**\n",
        "\n",
        "AGENTES: Medico, administrativo"
      ],
      "metadata": {
        "id": "IiMEaNqe4bck"
      }
    },
    {
      "cell_type": "code",
      "source": [
        "conversar(\"Buscar el alumno con código 25010008\")"
      ],
      "metadata": {
        "colab": {
          "base_uri": "https://localhost:8080/",
          "height": 122
        },
        "id": "Ph6NT7ok4CbI",
        "outputId": "cf1d36c9-80bf-4e18-a364-890b1e9615c9"
      },
      "execution_count": null,
      "outputs": [
        {
          "output_type": "execute_result",
          "data": {
            "text/plain": [
              "'He encontrado la información del alumno con código de matrícula 25010008:\\n\\n- **Nombre:** Joselyn Atencio Aguilar\\n- **Tipo de Documento:** D.N.I.\\n- **Número de Documento:** 71483771\\n- **Fecha de Nacimiento:** 12 de marzo de 2004\\n- **Sexo:** Femenino\\n- **Código de Escuela:** 110\\n- **Nombre de Escuela:** Medicina Humana\\n- **Año Base:** 2025\\n\\n### Estado de Exámenes Médicos:\\n- **Exámenes Completados:** 1\\n  - **Tipo de Examen:** Laboratorio\\n  - **Fecha de Examen:** 26 de octubre de 2025\\n  - **Resultado:** Resultados normales y fue evaluado por Dr. Pérez.\\n  - **Estado:** Completado\\n- **Exámenes Pendientes:** 3\\n\\nSi necesitas más información o detalles adicionales, no dudes en preguntar.'"
            ],
            "application/vnd.google.colaboratory.intrinsic+json": {
              "type": "string"
            }
          },
          "metadata": {},
          "execution_count": 19
        }
      ]
    },
    {
      "cell_type": "code",
      "source": [
        "# Cambiar a agente médico\n",
        "# Verificar estado de exámenes\n",
        "cambiar_agente(\"medico\")\n",
        "conversar(\"¿Qué exámenes tiene registrados?\")"
      ],
      "metadata": {
        "colab": {
          "base_uri": "https://localhost:8080/",
          "height": 53
        },
        "id": "lHAh-H2a4tIA",
        "outputId": "0cef563c-367b-4d8e-90cf-25c066469036"
      },
      "execution_count": null,
      "outputs": [
        {
          "output_type": "execute_result",
          "data": {
            "text/plain": [
              "'Por favor, proporcióname el código de matrícula, número de documento o apellido del alumno para poder consultar los exámenes registrados.'"
            ],
            "application/vnd.google.colaboratory.intrinsic+json": {
              "type": "string"
            }
          },
          "metadata": {},
          "execution_count": 20
        }
      ]
    },
    {
      "cell_type": "code",
      "source": [
        "conversar(\"ok, su codigo es 25010008\")\n"
      ],
      "metadata": {
        "colab": {
          "base_uri": "https://localhost:8080/",
          "height": 122
        },
        "id": "hiAPEwpx5fGm",
        "outputId": "518a9324-28e1-449d-94bf-99e80158959c"
      },
      "execution_count": null,
      "outputs": [
        {
          "output_type": "execute_result",
          "data": {
            "text/plain": [
              "'La alumna **Joselyn Atencio Aguilar** con código de matrícula **25010008** tiene registrados los siguientes exámenes:\\n\\n- **Exámenes Completados:**\\n  - **Tipo:** Laboratorio\\n    - **Fecha de Examen:** 26 de octubre de 2025\\n    - **Resultado:** Resultados normales y fue evaluado por Dr. Pérez.\\n    - **Estado:** Completado\\n\\n- **Exámenes Pendientes:**\\n  - **Tipo:** Psicológico\\n    - **Nombre:** Evaluación Psicológica\\n  - **Tipo:** Odontología\\n    - **Nombre:** Examen Odontológico\\n  - **Tipo:** Rayos X\\n    - **Nombre:** Rayos X de Tórax\\n\\nEl progreso del proceso médico es del **25%** y hay un examen completado de un total de cuatro. Actualmente, no hay exámenes que requieran seguimiento. Si necesitas más información o realizar alguna acción, no dudes en decírmelo.'"
            ],
            "application/vnd.google.colaboratory.intrinsic+json": {
              "type": "string"
            }
          },
          "metadata": {},
          "execution_count": 21
        }
      ]
    },
    {
      "cell_type": "code",
      "source": [
        "# Cambiar a agente médico: Cambio a agente médico para registro\")\n",
        "cambiar_agente(\"medico\")\n"
      ],
      "metadata": {
        "colab": {
          "base_uri": "https://localhost:8080/",
          "height": 35
        },
        "id": "g6plWQgL-OWc",
        "outputId": "8542eadf-6cf9-4907-cc32-0a14d96f3eda"
      },
      "execution_count": null,
      "outputs": [
        {
          "output_type": "execute_result",
          "data": {
            "text/plain": [
              "'Agente cambiado a: medico'"
            ],
            "application/vnd.google.colaboratory.intrinsic+json": {
              "type": "string"
            }
          },
          "metadata": {},
          "execution_count": 22
        }
      ]
    },
    {
      "cell_type": "code",
      "source": [
        "# Registro y correccion  de examen\n",
        "conversar(\"\"\"Se tiene que hacer una correccion en el registro del examen de laboratorio para la primera alumna del Excel:\n",
        "    - Resultados: Hemoglobina 14.5 g/dL, Glucosa 90 mg/dL, valores normales\n",
        "    - Estado: completado\n",
        "    - Responsable: Dr. Juan Pérez\"\"\")"
      ],
      "metadata": {
        "colab": {
          "base_uri": "https://localhost:8080/",
          "height": 177
        },
        "id": "BFgTznMu-dDE",
        "outputId": "494a4506-8ca9-4724-e05f-8b2e78d47fde"
      },
      "execution_count": null,
      "outputs": [
        {
          "output_type": "stream",
          "name": "stderr",
          "text": [
            "/tmp/ipython-input-4020476754.py:90: FutureWarning: Setting an item of incompatible dtype is deprecated and will raise an error in a future version of pandas. Value '25010008' has dtype incompatible with int64, please explicitly cast to a compatible dtype first.\n",
            "  df_examenes.loc[mask, col] = val\n",
            "/tmp/ipython-input-4020476754.py:90: FutureWarning: Setting an item of incompatible dtype is deprecated and will raise an error in a future version of pandas. Value '' has dtype incompatible with float64, please explicitly cast to a compatible dtype first.\n",
            "  df_examenes.loc[mask, col] = val\n"
          ]
        },
        {
          "output_type": "execute_result",
          "data": {
            "text/plain": [
              "'La corrección en el registro del examen de laboratorio para la alumna **Joselyn Atencio Aguilar** con código de matrícula **25010008** ha sido realizada con éxito. \\n\\n### Detalles del examen actualizado:\\n- **Tipo de Examen:** Laboratorio\\n- **Resultado:** Hemoglobina 14.5 g/dL, Glucosa 90 mg/dL, valores normales\\n- **Estado:** Completado\\n- **Responsable:** Dr. Juan Pérez\\n\\nSi necesitas realizar alguna otra acción o tienes más consultas, no dudes en decírmelo.'"
            ],
            "application/vnd.google.colaboratory.intrinsic+json": {
              "type": "string"
            }
          },
          "metadata": {},
          "execution_count": 23
        }
      ]
    },
    {
      "cell_type": "code",
      "source": [
        "# Cambiar a administrativo\n",
        "cambiar_agente(\"administrativo\")\n",
        "conversar(\"Dame un reporte general del estado actual\")"
      ],
      "metadata": {
        "colab": {
          "base_uri": "https://localhost:8080/",
          "height": 70
        },
        "id": "fIXfUrkt-3lu",
        "outputId": "aae530e6-1b20-486a-c095-fa58c8c7a413"
      },
      "execution_count": null,
      "outputs": [
        {
          "output_type": "execute_result",
          "data": {
            "text/plain": [
              "'Aquí tienes el reporte general del estado actual:\\n\\n### Reporte General\\n- **Fecha:** 26 de octubre de 2025\\n- **Total de Alumnos:** 7,237\\n- **Proceso Completo:** 0\\n- **Porcentaje Completado:** 0.0%\\n- **Requieren Seguimiento:** 0\\n- **Exámenes Realizados por Tipo:**\\n  - Laboratorio: 1\\n\\nSi necesitas más información o un reporte específico, no dudes en decírmelo.'"
            ],
            "application/vnd.google.colaboratory.intrinsic+json": {
              "type": "string"
            }
          },
          "metadata": {},
          "execution_count": 24
        }
      ]
    },
    {
      "cell_type": "code",
      "source": [
        "# Lista de pendientes\n",
        "conversar(\"Lista los 10  primeros alumnos que tienen exámenes pendientes\")\n"
      ],
      "metadata": {
        "colab": {
          "base_uri": "https://localhost:8080/",
          "height": 157
        },
        "id": "5ZU8-Ykh_Eh8",
        "outputId": "482a3004-a4f4-4011-e248-034e0585490d"
      },
      "execution_count": null,
      "outputs": [
        {
          "output_type": "execute_result",
          "data": {
            "text/plain": [
              "'Aquí tienes el reporte general del estado actual:\\n\\n### Reporte General\\n- **Fecha:** 26 de octubre de 2025\\n- **Total de Alumnos:** 7,237\\n- **Proceso Completo:** 0\\n- **Porcentaje Completado:** 0.0%\\n- **Requieren Seguimiento:** 0\\n- **Exámenes Realizados por Tipo:**\\n  - Laboratorio: 1\\n\\n---\\n\\n### Alumnos con Exámenes Pendientes (Primeros 10)\\n1. **Código de Matrícula:** 25010257\\n   - **Nombre Completo:** GABRIELA ALESSANDRA ACUÑA TORRES\\n   - **Escuela:** MEDICINA HUMANA\\n   - **Exámenes Pendientes:** Laboratorio, Psicológico, Odontología, Rayos X\\n   - **Cantidad Pendientes:** 4\\n\\n2. **Código de Matrícula:** 25010258\\n   - **Nombre Completo:** ANYER ALCANTARA CABREJOS\\n   - **Escuela:** MEDICINA HUMANA\\n   - **Exámenes Pendientes:** Laboratorio, Psicológico, Odontología, Rayos X\\n   - **Cantidad Pendientes:** 4\\n\\n3. **Código de Matrícula:** 25010001\\n   - **Nombre Completo:** CAMILA PATRICIA ALVARADO RISCO\\n   - **Escuela:** MEDICINA HUMANA\\n   - **Exámenes Pendientes:** Laboratorio, Psicológico, Odontología, Rayos X\\n   - **Cantidad Pendientes:** 4\\n\\n4. **Código de Matrícula:** 25010002\\n   - **Nombre Completo:** MELANI JAZMIN ALVAREZ SILVA\\n   - **Escuela:** MEDICINA HUMANA\\n   - **Exámenes Pendientes:** Laboratorio, Psicológico, Odontología, Rayos X\\n   - **Cantidad Pendientes:** 4\\n\\n5. **Código de Matrícula:** 25010259\\n   - **Nombre Completo:** JOEL ALEXIS AÑAMURO PANDURO\\n   - **Escuela:** MEDICINA HUMANA\\n   - **Exámenes Pendientes:** Laboratorio, Psicológico, Odontología, Rayos X\\n   - **Cantidad Pendientes:** 4\\n\\n6. **Código de Matrícula:** 25010003\\n   - **Nombre Completo:** RUBEN ANTONIO ANDAMAYO SUNA\\n   - **Escuela:** MEDICINA HUMANA\\n   - **Exámenes Pendientes:** Laboratorio, Psicológico, Odontología, Rayos X\\n   - **Cantidad Pendientes:** 4\\n\\n7. **Código de Matrícula:** 25010260\\n   - **Nombre Completo:** MIRELLA ROCÍO APAZA GIRÓN\\n   - **Escuela:** MEDICINA HUMANA\\n   - **Exámenes Pendientes:** Laboratorio, Psicológico, Odontología, Rayos X\\n   - **Cantidad Pendientes:** 4\\n\\n8. **Código de Matrícula:** 23050032\\n   - **Nombre Completo:** MATHIAS ALFHIERY APOLAYA MIZARE\\n   - **Escuela:** MEDICINA HUMANA\\n   - **Exámenes Pendientes:** Laboratorio, Psicológico, Odontología, Rayos X\\n   - **Cantidad Pendientes:** 4\\n\\n9. **Código de Matrícula:** 25010004\\n   - **Nombre Completo:** VIVIANA XIOMARA ARAKADO RAMOS\\n   - **Escuela:** MEDICINA HUMANA\\n   - **Exámenes Pendientes:** Laboratorio, Psicológico, Odontología, Rayos X\\n   - **Cantidad Pendientes:** 4\\n\\n10. **Código de Matrícula:** 25010005\\n    - **Nombre Completo:** RUSBELL ARAMBURU DELGADO\\n    - **Escuela:** MEDICINA HUMANA\\n    - **Exámenes Pendientes:** Laboratorio, Psicológico, Odontología, Rayos X\\n    - **Cantidad Pendientes:** 4\\n\\nSi necesitas más información o un reporte específico, no dudes en decírmelo.'"
            ],
            "application/vnd.google.colaboratory.intrinsic+json": {
              "type": "string"
            }
          },
          "metadata": {},
          "execution_count": 25
        }
      ]
    },
    {
      "cell_type": "code",
      "source": [
        "cambiar_agente(\"medico\")\n",
        "conversar(\"le falta pasar por todos los examenes entonces va a empezar con el examen de laboratorio en donde tiene resultados normales y fue evaluado por Dr. Pérez, registrar todo esto\")"
      ],
      "metadata": {
        "colab": {
          "base_uri": "https://localhost:8080/",
          "height": 53
        },
        "id": "jQQNghhH4tEy",
        "outputId": "0286f2ac-3ddc-4523-a083-08f94186125c"
      },
      "execution_count": null,
      "outputs": [
        {
          "output_type": "execute_result",
          "data": {
            "text/plain": [
              "'Para registrar el examen de laboratorio, necesito el código de matrícula del alumno. Por favor, proporciónamelo para continuar.'"
            ],
            "application/vnd.google.colaboratory.intrinsic+json": {
              "type": "string"
            }
          },
          "metadata": {},
          "execution_count": 22
        }
      ]
    },
    {
      "cell_type": "markdown",
      "source": [
        "# ejemplo con otro alumno de codigo 25110777"
      ],
      "metadata": {
        "id": "xoJazaNu_rNQ"
      }
    },
    {
      "cell_type": "code",
      "source": [
        "cambiar_agente(\"medico\")\n",
        "conversar('''Registra laboratorio para alumno 25110777:\n",
        "Hemoglobina: 15.2 g/dL\n",
        "Leucocitos: 7500/μL\n",
        "Plaquetas: 250000/μL\n",
        "Resultados normales\n",
        "Estado: completado\n",
        "Responsable: Dr. María Torres''')"
      ],
      "metadata": {
        "id": "xp7tsSxC5d2O",
        "colab": {
          "base_uri": "https://localhost:8080/",
          "height": 122
        },
        "outputId": "389b2b2a-38e4-4548-d575-efb9fb5e2f0a"
      },
      "execution_count": null,
      "outputs": [
        {
          "output_type": "execute_result",
          "data": {
            "text/plain": [
              "'La alumna **Thais Bretha Gomez Asencios** con código de matrícula **25110777** tiene los siguientes exámenes pendientes:\\n\\n- **Evaluación Psicológica**\\n- **Rayos X de Tórax** (ya registrado)\\n\\nHasta el momento, ha completado un total de **2 exámenes** de un total de **4**. Los exámenes completados son:\\n\\n1. **Laboratorio**\\n   - Resultado: Hemoglobina: 15.2 g/dL, Leucocitos: 7500/μL, Plaquetas: 250000/μL, Resultados normales\\n   - Estado: Completado\\n   - Responsable: Dr. María Torres\\n\\n2. **Odontología**\\n   - Resultado: Higiene dental adecuada, sin caries. Se recomienda limpieza dental preventiva\\n   - Estado: Completado\\n   - Responsable: Dr. Ana Sánchez\\n\\nSi necesitas realizar alguna acción adicional o tienes más consultas, no dudes en decírmelo.'"
            ],
            "application/vnd.google.colaboratory.intrinsic+json": {
              "type": "string"
            }
          },
          "metadata": {},
          "execution_count": 34
        }
      ]
    },
    {
      "cell_type": "code",
      "source": [
        "conversar(\"si, claro. registra los resultados dados del alumno 25110777\")"
      ],
      "metadata": {
        "colab": {
          "base_uri": "https://localhost:8080/",
          "height": 87
        },
        "id": "sjso_k7mAavn",
        "outputId": "abf75eb6-a9db-4f33-c920-2afef929bc30"
      },
      "execution_count": null,
      "outputs": [
        {
          "output_type": "execute_result",
          "data": {
            "text/plain": [
              "'El examen de laboratorio para la alumna **Thais Bretha Gomez Asencios** con código de matrícula **25110777** ha sido registrado con éxito. \\n\\n### Detalles del examen registrado:\\n- **Tipo de Examen:** Laboratorio\\n- **Resultado:** Hemoglobina: 15.2 g/dL, Leucocitos: 7500/μL, Plaquetas: 250000/μL, Resultados normales\\n- **Estado:** Completado\\n- **Responsable:** Dr. María Torres\\n\\nSi necesitas realizar alguna otra acción o tienes más consultas, no dudes en decírmelo.'"
            ],
            "application/vnd.google.colaboratory.intrinsic+json": {
              "type": "string"
            }
          },
          "metadata": {},
          "execution_count": 29
        }
      ]
    },
    {
      "cell_type": "code",
      "source": [
        "conversar('''Registra odontología para alumno 25110777:\n",
        "Higiene dental adecuada, sin caries\n",
        "Se recomienda limpieza dental preventiva\n",
        "Estado: completado\n",
        "Responsable: Dr. Ana Sánchez''')"
      ],
      "metadata": {
        "colab": {
          "base_uri": "https://localhost:8080/",
          "height": 87
        },
        "id": "uBjBXB5iAqjp",
        "outputId": "03bfab57-638a-4cc6-a9e2-68e21bbf5ae7"
      },
      "execution_count": null,
      "outputs": [
        {
          "output_type": "execute_result",
          "data": {
            "text/plain": [
              "'El examen de odontología para la alumna **Thais Bretha Gomez Asencios** con código de matrícula **25110777** ha sido registrado con éxito. \\n\\n### Detalles del examen registrado:\\n- **Tipo de Examen:** Examen Odontológico\\n- **Resultado:** Higiene dental adecuada, sin caries. Se recomienda limpieza dental preventiva\\n- **Estado:** Completado\\n- **Responsable:** Dr. Ana Sánchez\\n\\nSi necesitas realizar alguna otra acción o tienes más consultas, no dudes en decírmelo.'"
            ],
            "application/vnd.google.colaboratory.intrinsic+json": {
              "type": "string"
            }
          },
          "metadata": {},
          "execution_count": 31
        }
      ]
    },
    {
      "cell_type": "code",
      "source": [
        "conversar('''Registra rayos_x para alumno 25110777:\n",
        "Radiografía de tórax sin alteraciones\n",
        "Campos pulmonares normales\n",
        "Estado: completado\n",
        "Responsable: Dr. Podesta''')\n"
      ],
      "metadata": {
        "colab": {
          "base_uri": "https://localhost:8080/",
          "height": 105
        },
        "id": "FPx_SfrhA0Os",
        "outputId": "c295d46f-cee6-44de-a6e1-ac3603f901e9"
      },
      "execution_count": null,
      "outputs": [
        {
          "output_type": "execute_result",
          "data": {
            "text/plain": [
              "'El examen de rayos X para la alumna **Thais Bretha Gomez Asencios** con código de matrícula **25110777** ha sido registrado con éxito. \\n\\n### Detalles del examen registrado:\\n- **Tipo de Examen:** Rayos X de Tórax\\n- **Resultado:** Radiografía de tórax sin alteraciones. Campos pulmonares normales\\n- **Estado:** Completado\\n- **Responsable:** Dr. Podesta\\n\\nActualmente, la alumna ha completado un total de **2 exámenes** de un total de **4**. Los exámenes pendientes son:\\n- Evaluación Psicológica\\n- Rayos X de Tórax (ya registrado)\\n\\nSi necesitas realizar alguna otra acción o tienes más consultas, no dudes en decírmelo.'"
            ],
            "application/vnd.google.colaboratory.intrinsic+json": {
              "type": "string"
            }
          },
          "metadata": {},
          "execution_count": 32
        }
      ]
    },
    {
      "cell_type": "code",
      "source": [
        "conversar(\"al alumno 25110777 le falta pasar por algun examen?\")"
      ],
      "metadata": {
        "colab": {
          "base_uri": "https://localhost:8080/",
          "height": 122
        },
        "id": "i46WRhQfAqmS",
        "outputId": "2232e07f-f499-4d14-fdab-baefef470963"
      },
      "execution_count": null,
      "outputs": [
        {
          "output_type": "execute_result",
          "data": {
            "text/plain": [
              "'La alumna **Thais Bretha Gomez Asencios** con código de matrícula **25110777** tiene los siguientes exámenes pendientes:\\n\\n- **Evaluación Psicológica**\\n- **Rayos X de Tórax** (ya registrado)\\n\\nHasta el momento, ha completado un total de **2 exámenes** de un total de **4**. Los exámenes completados son:\\n\\n1. **Laboratorio**\\n   - Resultado: Hemoglobina: 15.2 g/dL, Leucocitos: 7500/μL, Plaquetas: 250000/μL, Resultados normales\\n   - Estado: Completado\\n   - Responsable: Dr. María Torres\\n\\n2. **Odontología**\\n   - Resultado: Higiene dental adecuada, sin caries. Se recomienda limpieza dental preventiva\\n   - Estado: Completado\\n   - Responsable: Dr. Ana Sánchez\\n\\nSi necesitas realizar alguna acción adicional o tienes más consultas, no dudes en decírmelo.'"
            ],
            "application/vnd.google.colaboratory.intrinsic+json": {
              "type": "string"
            }
          },
          "metadata": {},
          "execution_count": 35
        }
      ]
    },
    {
      "cell_type": "code",
      "source": [
        "cambiar_agente(\"administrativo\")\n",
        "conversar(\"Genera reporte de los alumnos que hayan pasado por todos o al menos un examen mèdico\")"
      ],
      "metadata": {
        "colab": {
          "base_uri": "https://localhost:8080/",
          "height": 157
        },
        "id": "YDZfe7SwBcZL",
        "outputId": "792eb4a4-0834-4cf0-84cc-f41f829a6801"
      },
      "execution_count": null,
      "outputs": [
        {
          "output_type": "execute_result",
          "data": {
            "text/plain": [
              "'Aquí tienes el reporte general del estado actual y la lista de los primeros alumnos con exámenes pendientes:\\n\\n### Reporte General\\n- **Fecha:** 26 de octubre de 2025\\n- **Total de Alumnos:** 7,237\\n- **Proceso Completo:** 0\\n- **Porcentaje Completado:** 0.0%\\n- **Requieren Seguimiento:** 0\\n- **Exámenes Realizados por Tipo:**\\n  - Laboratorio: 2\\n  - Odontología: 1\\n  - Rayos X: 1\\n\\n---\\n\\n### Alumnos con Exámenes Pendientes (Primeros 10)\\n1. **Código de Matrícula:** 25010257\\n   - **Nombre Completo:** GABRIELA ALESSANDRA ACUÑA TORRES\\n   - **Escuela:** MEDICINA HUMANA\\n   - **Exámenes Pendientes:** Laboratorio, Psicológico, Odontología, Rayos X\\n   - **Cantidad Pendientes:** 4\\n\\n2. **Código de Matrícula:** 25010258\\n   - **Nombre Completo:** ANYER ALCANTARA CABREJOS\\n   - **Escuela:** MEDICINA HUMANA\\n   - **Exámenes Pendientes:** Laboratorio, Psicológico, Odontología, Rayos X\\n   - **Cantidad Pendientes:** 4\\n\\n3. **Código de Matrícula:** 25010001\\n   - **Nombre Completo:** CAMILA PATRICIA ALVARADO RISCO\\n   - **Escuela:** MEDICINA HUMANA\\n   - **Exámenes Pendientes:** Laboratorio, Psicológico, Odontología, Rayos X\\n   - **Cantidad Pendientes:** 4\\n\\n4. **Código de Matrícula:** 25010002\\n   - **Nombre Completo:** MELANI JAZMIN ALVAREZ SILVA\\n   - **Escuela:** MEDICINA HUMANA\\n   - **Exámenes Pendientes:** Laboratorio, Psicológico, Odontología, Rayos X\\n   - **Cantidad Pendientes:** 4\\n\\n5. **Código de Matrícula:** 25010259\\n   - **Nombre Completo:** JOEL ALEXIS AÑAMURO PANDURO\\n   - **Escuela:** MEDICINA HUMANA\\n   - **Exámenes Pendientes:** Laboratorio, Psicológico, Odontología, Rayos X\\n   - **Cantidad Pendientes:** 4\\n\\n6. **Código de Matrícula:** 25010003\\n   - **Nombre Completo:** RUBEN ANTONIO ANDAMAYO SUNA\\n   - **Escuela:** MEDICINA HUMANA\\n   - **Exámenes Pendientes:** Laboratorio, Psicológico, Odontología, Rayos X\\n   - **Cantidad Pendientes:** 4\\n\\n7. **Código de Matrícula:** 25010260\\n   - **Nombre Completo:** MIRELLA ROCÍO APAZA GIRÓN\\n   - **Escuela:** MEDICINA HUMANA\\n   - **Exámenes Pendientes:** Laboratorio, Psicológico, Odontología, Rayos X\\n   - **Cantidad Pendientes:** 4\\n\\n8. **Código de Matrícula:** 23050032\\n   - **Nombre Completo:** MATHIAS ALFHIERY APOLAYA MIZARE\\n   - **Escuela:** MEDICINA HUMANA\\n   - **Exámenes Pendientes:** Laboratorio, Psicológico, Odontología, Rayos X\\n   - **Cantidad Pendientes:** 4\\n\\n9. **Código de Matrícula:** 25010004\\n   - **Nombre Completo:** VIVIANA XIOMARA ARAKADO RAMOS\\n   - **Escuela:** MEDICINA HUMANA\\n   - **Exámenes Pendientes:** Laboratorio, Psicológico, Odontología, Rayos X\\n   - **Cantidad Pendientes:** 4\\n\\n10. **Código de Matrícula:** 25010005\\n    - **Nombre Completo:** RUSBELL ARAMBURU DELGADO\\n    - **Escuela:** MEDICINA HUMANA\\n    - **Exámenes Pendientes:** Laboratorio, Psicológico, Odontología, Rayos X\\n    - **Cantidad Pendientes:** 4\\n\\nSi necesitas más información o un reporte específico, no dudes en decírmelo.'"
            ],
            "application/vnd.google.colaboratory.intrinsic+json": {
              "type": "string"
            }
          },
          "metadata": {},
          "execution_count": 36
        }
      ]
    },
    {
      "cell_type": "code",
      "source": [
        "cambiar_agente(\"coordinador\")\n",
        "conversar(\"Busca todos los alumnos con apellido RIVERA\")"
      ],
      "metadata": {
        "colab": {
          "base_uri": "https://localhost:8080/",
          "height": 157
        },
        "id": "JLVoZgP7AlP7",
        "outputId": "ed5cd263-407b-42e6-c9bf-ff82c49f6961"
      },
      "execution_count": null,
      "outputs": [
        {
          "output_type": "execute_result",
          "data": {
            "text/plain": [
              "'He encontrado la información de los alumnos con el apellido \"RIVERA\". A continuación, se detallan algunos de ellos:\\n\\n1. **Freddy Fabricio Arcos Rivera**\\n   - **Código Matrícula:** 25010006\\n   - **Tipo Documento:** D.N.I.\\n   - **Número Documento:** 71937876\\n   - **Fecha de Nacimiento:** 23 de febrero de 2006\\n   - **Sexo:** Masculino\\n   - **Nombre Escuela:** Medicina Humana\\n   - **Exámenes Completados:** 0\\n   - **Exámenes Pendientes:** 4\\n\\n2. **Nelly Virginia Rivera Villalobos**\\n   - **Código Matrícula:** 25010344\\n   - **Tipo Documento:** D.N.I.\\n   - **Número Documento:** 73224408\\n   - **Fecha de Nacimiento:** 11 de abril de 2002\\n   - **Sexo:** Femenino\\n   - **Nombre Escuela:** Medicina Humana\\n   - **Exámenes Completados:** 0\\n   - **Exámenes Pendientes:** 4\\n\\n3. **Luisa Fernanda Rivera Ordoñez**\\n   - **Código Matrícula:** 25010399\\n   - **Tipo Documento:** D.N.I.\\n   - **Número Documento:** 75979536\\n   - **Fecha de Nacimiento:** 25 de febrero de 2005\\n   - **Sexo:** Femenino\\n   - **Nombre Escuela:** Obstetricia\\n   - **Exámenes Completados:** 0\\n   - **Exámenes Pendientes:** 4\\n\\n4. **Jorge Luis Carlos Rivera**\\n   - **Código Matrícula:** 25010153\\n   - **Tipo Documento:** D.N.I.\\n   - **Número Documento:** 62950138\\n   - **Fecha de Nacimiento:** 27 de octubre de 2004\\n   - **Sexo:** Masculino\\n   - **Nombre Escuela:** Tec. Med. Lab. Clínico y Anatomía Patológica\\n   - **Exámenes Completados:** 0\\n   - **Exámenes Pendientes:** 4\\n\\n5. **Jonatan Gabriel Prado Rivera**\\n   - **Código Matrícula:** 25010192\\n   - **Tipo Documento:** D.N.I.\\n   - **Número Documento:** 75332571\\n   - **Fecha de Nacimiento:** 10 de agosto de 2002\\n   - **Sexo:** Masculino\\n   - **Nombre Escuela:** Tec. Med. Radiología\\n   - **Exámenes Completados:** 0\\n   - **Exámenes Pendientes:** 4\\n\\nEsta es solo una parte de la lista, ya que hay un total de 45 alumnos con el apellido \"RIVERA\". Si necesitas información adicional sobre alguno de ellos o sobre otros alumnos, por favor házmelo saber.'"
            ],
            "application/vnd.google.colaboratory.intrinsic+json": {
              "type": "string"
            }
          },
          "metadata": {},
          "execution_count": 37
        }
      ]
    },
    {
      "cell_type": "code",
      "source": [
        "#conversar(\"...\", agente_tipo=\"coordinador\")"
      ],
      "metadata": {
        "id": "9SGanNypT3rj"
      },
      "execution_count": null,
      "outputs": []
    }
  ]
}